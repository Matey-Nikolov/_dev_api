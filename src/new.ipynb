{
 "cells": [
  {
   "cell_type": "code",
   "execution_count": null,
   "metadata": {},
   "outputs": [],
   "source": [
    "import requests\n",
    "\n",
    "url = \"https://id.sophos.com/api/v2/oauth2/token\"\n",
    "\n",
    "payload='grant_type=client_credentials&scope=token&client_id=a2138bab-da32-4e8c-b0bd-b09ca12c5b84&client_secret=01163bdd52cd0861150e0d0183e6d157fec15cc9508af9cbc95ae53b1ce091ab5a03d132dec1efbc7706c0e83248cf342361'\n",
    "headers = {\n",
    "  'Content-Type': 'application/x-www-form-urlencoded'\n",
    "}\n",
    "\n",
    "response = requests.request(\"POST\", url, headers=headers, data=payload)\n",
    "\n",
    "print(response.text)\n"
   ]
  }
 ],
 "metadata": {
  "language_info": {
   "name": "python"
  },
  "orig_nbformat": 4
 },
 "nbformat": 4,
 "nbformat_minor": 2
}
